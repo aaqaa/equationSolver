{
 "cells": [
  {
   "cell_type": "markdown",
   "metadata": {},
   "source": [
    "# Making simple equation solver #\n",
    "\n",
    "\n",
    "**Goal** : Making a simple equation solver to perform `+` , `-` , `/` and `*` based on images of the equation. Everything is build from stratch and we are using Keras Sequential Model for this.  \n",
    "\n",
    "\n",
    "1. [Reading the data](#Reading-the-data)\n",
    "2. [Verifying the data](#Verifying-the-data)\n",
    "3. [Creating train test and validation set](#Creating-train-test-and-validation-set)\n",
    "4. [Creating Sequential model](#Creating-Sequential-model)\n",
    "5. [Training the model](#Training-the-model)\n",
    "6. [Visualising the outcome](#Visualising-the-outcome)\n",
    "7. [Model performance on equations](#Model-performance-on-equations)\n",
    "8. [Keract for seeing inside the model](#Keract-for-seeing-inside-the-model)"
   ]
  },
  {
   "cell_type": "markdown",
   "metadata": {},
   "source": [
    "# Reading the data #\n",
    "\n",
    "Importing all the libraries"
   ]
  },
  {
   "cell_type": "code",
   "execution_count": 1,
   "metadata": {
    "_cell_guid": "b1076dfc-b9ad-4769-8c92-a6c4dae69d19",
    "_uuid": "8f2839f25d086af736a60e9eeb907d3b93b6e0e5"
   },
   "outputs": [],
   "source": [
    "import numpy as np \n",
    "import pandas as pd \n",
    "import matplotlib.pyplot as plt\n",
    "\n",
    "import keras\n",
    "from keras.models import Sequential\n",
    "from keras.layers import Dense, Dropout, Flatten, Conv2D, MaxPooling2D\n",
    "\n",
    "import os\n",
    "import cv2\n",
    "from sklearn import preprocessing\n",
    "from pathlib import Path\n",
    "from PIL import Image"
   ]
  },
  {
   "cell_type": "markdown",
   "metadata": {},
   "source": [
    "Creating a list of symbols which we are going to use for training "
   ]
  },
  {
   "cell_type": "code",
   "execution_count": 2,
   "metadata": {
    "_cell_guid": "79c7e3d0-c299-4dcb-8224-4455121ee9b0",
    "_uuid": "d629ff2d2480ee46fbb7e2d37f6b5fab8052498a"
   },
   "outputs": [],
   "source": [
    "symbols_list = ['zero','one','two','three','four','five','six','seven','eight','nine','minus','plus','equal','div','decimal','times']"
   ]
  },
  {
   "cell_type": "markdown",
   "metadata": {},
   "source": [
    "Loading the paths of all testing and training images"
   ]
  },
  {
   "cell_type": "code",
   "execution_count": 9,
   "metadata": {},
   "outputs": [],
   "source": [
    "dataset_path = \"./train\"\n",
    "train_image = []\n",
    "train_label = []\n",
    "\n",
    "for symbols_dir in os.listdir(dataset_path):\n",
    "    if symbols_dir.split()[0] in symbols_list:\n",
    "        for image in os.listdir(dataset_path + \"/\" + symbols_dir):\n",
    "            train_label.append(symbols_dir.split()[0])\n",
    "            train_image.append(dataset_path + \"/\" + symbols_dir + \"/\" + image)"
   ]
  },
  {
   "cell_type": "code",
   "execution_count": 10,
   "metadata": {},
   "outputs": [],
   "source": [
    "eval_path = \"./eval\"\n",
    "test_image = []\n",
    "test_label = []\n",
    "\n",
    "for symbols_dir in os.listdir(eval_path):\n",
    "    if symbols_dir.split()[0] in symbols_list:\n",
    "        for image in os.listdir(eval_path + \"/\" + symbols_dir):\n",
    "            test_label.append(symbols_dir.split()[0])\n",
    "            test_image.append(eval_path + \"/\" + symbols_dir + \"/\" + image)"
   ]
  },
  {
   "cell_type": "code",
   "execution_count": 11,
   "metadata": {},
   "outputs": [
    {
     "name": "stdout",
     "output_type": "stream",
     "text": [
      "Length of train_image :  7557  , length of labels list :  7557\n",
      "Length of test_image :  1010  , length of labels list :  1010\n"
     ]
    }
   ],
   "source": [
    "print(\"Length of train_image : \" , len(train_image) , \" , length of labels list : \" ,len(train_label))\n",
    "print(\"Length of test_image : \" , len(test_image) , \" , length of labels list : \" ,len(test_label))"
   ]
  },
  {
   "cell_type": "markdown",
   "metadata": {},
   "source": [
    "# Verifying the data #"
   ]
  },
  {
   "cell_type": "markdown",
   "metadata": {},
   "source": [
    "Let's see that we have 16 unique labels for both test and train"
   ]
  },
  {
   "cell_type": "code",
   "execution_count": 12,
   "metadata": {},
   "outputs": [
    {
     "name": "stdout",
     "output_type": "stream",
     "text": [
      "Length of test unique labels:  16  :  ['zero', 'equal', 'six', 'decimal', 'five', 'times', 'two', 'three', 'minus', 'div', 'four', 'eight', 'nine', 'plus', 'seven', 'one']\n",
      "Length of train unique labels:  16  :  ['zero', 'equal', 'six', 'decimal', 'five', 'times', 'two', 'three', 'minus', 'div', 'four', 'eight', 'nine', 'plus', 'seven', 'one']\n"
     ]
    }
   ],
   "source": [
    "unique_test = list(set(test_label))\n",
    "unique_train = list(set(train_label))\n",
    "print(\"Length of test unique labels: \" , len(unique_test) , \" : \" , unique_test)\n",
    "print(\"Length of train unique labels: \" , len(unique_train) , \" : \" , unique_train)"
   ]
  },
  {
   "cell_type": "markdown",
   "metadata": {},
   "source": [
    "Loading the images and label and checking correctness"
   ]
  },
  {
   "cell_type": "code",
   "execution_count": 13,
   "metadata": {},
   "outputs": [
    {
     "data": {
      "image/png": "[encoded data removed]",
      "text/plain": [
       "<Figure size 432x288 with 1 Axes>"
      ]
     },
     "metadata": {
      "needs_background": "light"
     },
     "output_type": "display_data"
    }
   ],
   "source": [
    "image = cv2.imread(train_image[140])\n",
    "plt.imshow(image)\n",
    "plt.title(\"Label: \" + train_label[140])\n",
    "plt.show()"
   ]
  },
  {
   "cell_type": "code",
   "execution_count": 14,
   "metadata": {},
   "outputs": [
    {
     "data": {
      "image/png": "[encoded data removed]",
      "text/plain": [
       "<Figure size 432x288 with 1 Axes>"
      ]
     },
     "metadata": {
      "needs_background": "light"
     },
     "output_type": "display_data"
    }
   ],
   "source": [
    "image = cv2.imread(train_image[500])\n",
    "plt.imshow(image)\n",
    "plt.title(\"Label: \" + train_label[500])\n",
    "plt.show()"
   ]
  },
  {
   "cell_type": "markdown",
   "metadata": {},
   "source": [
    "# Creating train test and validation set #"
   ]
  },
  {
   "cell_type": "code",
   "execution_count": 15,
   "metadata": {},
   "outputs": [
    {
     "data": {
      "text/plain": [
       "(135, 155, 3)"
      ]
     },
     "execution_count": 15,
     "metadata": {},
     "output_type": "execute_result"
    }
   ],
   "source": [
    "test = np.array(cv2.imread(train_image[20]))\n",
    "test.shape"
   ]
  },
  {
   "cell_type": "markdown",
   "metadata": {},
   "source": [
    "Creating the X_train and X_test"
   ]
  },
  {
   "cell_type": "code",
   "execution_count": 16,
   "metadata": {},
   "outputs": [],
   "source": [
    "X_train = []\n",
    "X_test = []\n",
    "\n",
    "# laoding the images from the path\n",
    "for path in train_image:    \n",
    "    img = cv2.imread(path)\n",
    "    img = cv2.resize(img, (100, 100))\n",
    "    img = np.array(img)\n",
    "    X_train.append(img)\n",
    "\n",
    "for path in test_image:    \n",
    "    img = cv2.imread(path)\n",
    "    img = cv2.resize(img, (100, 100))\n",
    "    img = np.array(img)     \n",
    "    X_test.append(img)\n",
    "\n",
    "# creating numpy array from the images\n",
    "X_train = np.array(X_train)\n",
    "X_test = np.array(X_test)"
   ]
  },
  {
   "cell_type": "markdown",
   "metadata": {},
   "source": [
    "Verifying the shape"
   ]
  },
  {
   "cell_type": "code",
   "execution_count": 17,
   "metadata": {},
   "outputs": [
    {
     "data": {
      "text/plain": [
       "(7557, 100, 100, 3)"
      ]
     },
     "execution_count": 17,
     "metadata": {},
     "output_type": "execute_result"
    }
   ],
   "source": [
    "X_train.shape"
   ]
  },
  {
   "cell_type": "code",
   "execution_count": 18,
   "metadata": {},
   "outputs": [
    {
     "name": "stdout",
     "output_type": "stream",
     "text": [
      "X_train shape:  (7557, 100, 100, 3)\n",
      "X_test shape:  (1010, 100, 100, 3)\n"
     ]
    }
   ],
   "source": [
    "# normalizing the data\n",
    "X_train = X_train.astype('float32')\n",
    "X_test = X_test.astype('float32')\n",
    "X_train /= 255\n",
    "X_test /= 255\n",
    "\n",
    "print(\"X_train shape: \", X_train.shape)\n",
    "print(\"X_test shape: \", X_test.shape)"
   ]
  },
  {
   "cell_type": "markdown",
   "metadata": {},
   "source": [
    "Creating the y_train and y_test"
   ]
  },
  {
   "cell_type": "code",
   "execution_count": 19,
   "metadata": {},
   "outputs": [],
   "source": [
    "# label encoding the 16 symbols\n",
    "label_encoder = preprocessing.LabelEncoder()\n",
    "y_train_temp = label_encoder.fit_transform(train_label)\n",
    "y_test_temp = label_encoder.fit_transform(test_label)"
   ]
  },
  {
   "cell_type": "code",
   "execution_count": 20,
   "metadata": {},
   "outputs": [
    {
     "name": "stdout",
     "output_type": "stream",
     "text": [
      "y_train_temp shape:  (7557,)\n",
      "y_test_temp shape:  (1010,)\n"
     ]
    }
   ],
   "source": [
    "print(\"y_train_temp shape: \", y_train_temp.shape)\n",
    "print(\"y_test_temp shape: \", y_test_temp.shape)"
   ]
  },
  {
   "cell_type": "code",
   "execution_count": 21,
   "metadata": {},
   "outputs": [
    {
     "name": "stdout",
     "output_type": "stream",
     "text": [
      "y_train shape:  (7557, 16)\n",
      "y_test shape:  (1010, 16)\n"
     ]
    }
   ],
   "source": [
    "# creating matrix labels list\n",
    "y_train = keras.utils.to_categorical(y_train_temp, 16)\n",
    "y_test = keras.utils.to_categorical(y_test_temp, 16)\n",
    "\n",
    "\n",
    "print(\"y_train shape: \", y_train.shape)\n",
    "print(\"y_test shape: \", y_test.shape)"
   ]
  },
  {
   "cell_type": "markdown",
   "metadata": {},
   "source": [
    "# Creating Sequential model #"
   ]
  },
  {
   "cell_type": "code",
   "execution_count": 22,
   "metadata": {},
   "outputs": [
    {
     "name": "stdout",
     "output_type": "stream",
     "text": [
      "Model: \"sequential\"\n",
      "_________________________________________________________________\n",
      "Layer (type)                 Output Shape              Param #   \n",
      "=================================================================\n",
      "conv2d (Conv2D)              (None, 100, 100, 32)      896       \n",
      "_________________________________________________________________\n",
      "conv2d_1 (Conv2D)            (None, 98, 98, 32)        9248      \n",
      "_________________________________________________________________\n",
      "max_pooling2d (MaxPooling2D) (None, 49, 49, 32)        0         \n",
      "_________________________________________________________________\n",
      "dropout (Dropout)            (None, 49, 49, 32)        0         \n",
      "_________________________________________________________________\n",
      "conv2d_2 (Conv2D)            (None, 49, 49, 64)        18496     \n",
      "_________________________________________________________________\n",
      "conv2d_3 (Conv2D)            (None, 47, 47, 64)        36928     \n",
      "_________________________________________________________________\n",
      "max_pooling2d_1 (MaxPooling2 (None, 23, 23, 64)        0         \n",
      "_________________________________________________________________\n",
      "dropout_1 (Dropout)          (None, 23, 23, 64)        0         \n",
      "_________________________________________________________________\n",
      "flatten (Flatten)            (None, 33856)             0         \n",
      "_________________________________________________________________\n",
      "dense (Dense)                (None, 512)               17334784  \n",
      "_________________________________________________________________\n",
      "dropout_2 (Dropout)          (None, 512)               0         \n",
      "_________________________________________________________________\n",
      "dense_1 (Dense)              (None, 16)                8208      \n",
      "=================================================================\n",
      "Total params: 17,408,560\n",
      "Trainable params: 17,408,560\n",
      "Non-trainable params: 0\n",
      "_________________________________________________________________\n"
     ]
    }
   ],
   "source": [
    "# using sequential model for training\n",
    "model = Sequential()\n",
    "\n",
    "# 1st layer and taking input in this of shape 100x100x3 ->  100 x 100 pixles and 3 channels\n",
    "model.add(Conv2D(32, (3, 3), padding='same', input_shape=(100, 100, 3), activation=\"relu\"))\n",
    "model.add(Conv2D(32, (3, 3), activation=\"relu\"))\n",
    "\n",
    "# maxpooling will take highest value from a filter of 2*2 shape\n",
    "model.add(MaxPooling2D(pool_size=(2, 2)))\n",
    "\n",
    "# it will prevent overfitting by making it hard for the model to idenify the images\n",
    "model.add(Dropout(0.25))\n",
    "\n",
    "model.add(Conv2D(64, (3, 3), padding='same', activation=\"relu\"))\n",
    "model.add(Conv2D(64, (3, 3), activation=\"relu\"))\n",
    "model.add(MaxPooling2D(pool_size=(2, 2)))\n",
    "model.add(Dropout(0.25))\n",
    "\n",
    "model.add(Flatten())\n",
    "model.add(Dense(512, activation=\"relu\"))\n",
    "model.add(Dropout(0.5))\n",
    "\n",
    "# last layer predicts 16 labels\n",
    "model.add(Dense(16, activation=\"softmax\"))\n",
    "\n",
    "# Compile the model\n",
    "model.compile(\n",
    "    loss='categorical_crossentropy',\n",
    "    optimizer=\"adam\",\n",
    "    metrics=['accuracy']\n",
    ")\n",
    "\n",
    "model.summary()\n"
   ]
  },
  {
   "cell_type": "markdown",
   "metadata": {},
   "source": [
    "Visualising the model"
   ]
  },
  {
   "cell_type": "code",
   "execution_count": 23,
   "metadata": {},
   "outputs": [
    {
     "name": "stdout",
     "output_type": "stream",
     "text": [
      "('Failed to import pydot. You must `pip install pydot` and install graphviz (https://graphviz.gitlab.io/download/), ', 'for `pydotprint` to work.')\n"
     ]
    }
   ],
   "source": [
    "# displaying the model\n",
    "keras.utils.plot_model(model, \"model.png\", show_shapes=True)"
   ]
  },
  {
   "cell_type": "markdown",
   "metadata": {},
   "source": [
    "# Training the model #"
   ]
  },
  {
   "cell_type": "code",
   "execution_count": null,
   "metadata": {},
   "outputs": [
    {
     "name": "stdout",
     "output_type": "stream",
     "text": [
      "Epoch 1/200\n",
      "121/121 [==============================] - ETA: 0s - loss: 1.8375 - accuracy: 0.4299"
     ]
    }
   ],
   "source": [
    "# training the model\n",
    "history = model.fit(\n",
    "    X_train,\n",
    "    y_train,\n",
    "    batch_size=50,\n",
    "    epochs=200,\n",
    "    validation_split=0.2,\n",
    "    shuffle=True\n",
    ")"
   ]
  },
  {
   "cell_type": "markdown",
   "metadata": {},
   "source": [
    "# Visualising the outcome #"
   ]
  },
  {
   "cell_type": "code",
   "execution_count": null,
   "metadata": {},
   "outputs": [],
   "source": [
    "# displaying the model accuracy\n",
    "plt.plot(history.history['accuracy'], label='train', color=\"red\")\n",
    "plt.plot(history.history['val_accuracy'], label='validation', color=\"blue\")\n",
    "plt.title('Model accuracy')\n",
    "plt.legend(loc='upper left')\n",
    "plt.ylabel('accuracy')\n",
    "plt.xlabel('epoch')\n",
    "plt.show()"
   ]
  },
  {
   "cell_type": "code",
   "execution_count": null,
   "metadata": {},
   "outputs": [],
   "source": [
    "# displaying the model loss\n",
    "plt.plot(history.history['loss'], label='train', color=\"red\")\n",
    "plt.plot(history.history['val_loss'], label='validation', color=\"blue\")\n",
    "plt.title('Model loss')\n",
    "plt.legend(loc='upper left')\n",
    "plt.xlabel('epoch')\n",
    "plt.ylabel('loss')\n",
    "plt.show()"
   ]
  },
  {
   "cell_type": "code",
   "execution_count": null,
   "metadata": {},
   "outputs": [],
   "source": [
    "score, acc = model.evaluate(X_test, y_test)\n",
    "print('Test score:', score)\n",
    "print('Test accuracy:', acc)"
   ]
  },
  {
   "cell_type": "code",
   "execution_count": null,
   "metadata": {},
   "outputs": [],
   "source": [
    "score, acc = model.evaluate(X_train, y_train)\n",
    "print('Train score:', score)\n",
    "print('Train accuracy:', acc)"
   ]
  },
  {
   "cell_type": "code",
   "execution_count": null,
   "metadata": {},
   "outputs": [],
   "source": [
    "pred = model.predict(X_test)\n",
    "pred"
   ]
  },
  {
   "cell_type": "markdown",
   "metadata": {},
   "source": [
    "Let's see the model performance on the test set"
   ]
  },
  {
   "cell_type": "code",
   "execution_count": null,
   "metadata": {},
   "outputs": [],
   "source": [
    "fig, axs= plt.subplots(2,5, figsize=[24,12])\n",
    "\n",
    "count=0\n",
    "\n",
    "for i in range(2):    \n",
    "    for j in range(5):  \n",
    "        \n",
    "        image = cv2.imread(test_image[count + count*100])\n",
    "        img = cv2.resize(image, (100, 100))        \n",
    "        img = np.array(img)\n",
    "        img = np.expand_dims(img, axis=0)\n",
    "        img = img.astype('float32')\n",
    "        img /= 255\n",
    "        \n",
    "        \n",
    "        pred = model.predict(img)        \n",
    "        result = np.argsort(pred)  \n",
    "        result = result[0][::-1]\n",
    "\n",
    "        final_label = label_encoder.inverse_transform(np.array(result))\n",
    "                        \n",
    "        axs[i][j].imshow(image)\n",
    "        axs[i][j].set_title(str(\"Prediction: \" + final_label[0]), fontsize = 14)        \n",
    "        \n",
    "        count += 1\n",
    "        \n",
    "plt.suptitle(\"All predictions are shown in title\", fontsize = 18)        \n",
    "plt.show()"
   ]
  },
  {
   "cell_type": "markdown",
   "metadata": {},
   "source": [
    "# Model performance on equations #"
   ]
  },
  {
   "cell_type": "markdown",
   "metadata": {},
   "source": [
    "Creating functions to perform calcualtions on our own equation images"
   ]
  },
  {
   "cell_type": "code",
   "execution_count": null,
   "metadata": {},
   "outputs": [],
   "source": [
    "def strToSymbol(pred):\n",
    "    \n",
    "    if pred == \"zero\":\n",
    "        return 0    \n",
    "    elif pred == \"one\":\n",
    "        return 1\n",
    "    elif pred == \"two\":\n",
    "        return 2\n",
    "    elif pred == \"three\":\n",
    "        return 3\n",
    "    elif pred == \"four\":\n",
    "        return 4\n",
    "    elif pred == \"five\":\n",
    "        return 5\n",
    "    elif pred == \"six\":\n",
    "        return 6\n",
    "    elif pred == \"seven\":\n",
    "        return 7\n",
    "    elif pred == \"eight\":\n",
    "        return 8\n",
    "    elif pred == \"nine\":\n",
    "        return 9\n",
    "    elif pred == \"plus\":\n",
    "        return '+'\n",
    "    elif pred == \"minus\":\n",
    "        return '-'\n",
    "    elif pred == \"div\":\n",
    "        return '/'\n",
    "    elif pred == \"equal\":\n",
    "        return '='\n",
    "    elif pred == \"decimal\":\n",
    "        return '.'\n",
    "    elif pred == \"times\":\n",
    "        return '*'\n",
    "\n",
    "    \n",
    "def calculate(par1, sym, par2):\n",
    "    if sym == \"plus\":\n",
    "        return strToSymbol(par1) + strToSymbol(par2)\n",
    "    elif sym == \"minus\":\n",
    "        return strToSymbol(par1) - strToSymbol(par2)\n",
    "    elif sym == \"div\":\n",
    "        return strToSymbol(par1) / strToSymbol(par2)\n",
    "    elif sym == \"decimal\":\n",
    "        return str(par1 + sym + par2)\n",
    "    elif sym == \"times\":\n",
    "        return strToSymbol(par1) * strToSymbol(par2)\n",
    "    "
   ]
  },
  {
   "cell_type": "code",
   "execution_count": null,
   "metadata": {},
   "outputs": [],
   "source": [
    "image = Image.open(\"../input/dbscan-image/2exp.png\")\n",
    "equation = []\n",
    "\n",
    "width, height = image.size \n",
    "print(\"Width : \" , width, \" , Height : \", height)\n",
    "plt.imshow(image)\n",
    "plt.axis('off')\n",
    "plt.show()\n",
    "\n",
    "fig, axs= plt.subplots(1,3)\n",
    "div = int(width/3)\n",
    "\n",
    "for i in range(0,3):\n",
    "    left = i * div\n",
    "    top = 0\n",
    "    right = (i+1) * div\n",
    "    bottom = height \n",
    "    \n",
    "    temp_img = image.crop((left, top, right, bottom))\n",
    "    \n",
    "    temp_img = temp_img.resize((100,100)) \n",
    "    img = np.array(temp_img)\n",
    "    img = np.expand_dims(img, axis=0)\n",
    "    img = img.astype('float32')\n",
    "    img /= 255\n",
    "\n",
    "\n",
    "    pred = model.predict(img)        \n",
    "    result = np.argsort(pred)  \n",
    "    result = result[0][::-1]\n",
    "\n",
    "    final_label = label_encoder.inverse_transform(np.array(result))\n",
    "    \n",
    "    equation.append(final_label[0])\n",
    "    \n",
    "    axs[i].imshow(temp_img)\n",
    "    axs[i].set_title(str(\"Prediction: \" + final_label[0]), fontsize = 14)   \n",
    "\n",
    "plt.show()\n",
    "print(strToSymbol(equation[0]), strToSymbol(equation[1]) , strToSymbol(equation[2]), \" = \", calculate(equation[0], equation[1] , equation[2]))"
   ]
  },
  {
   "cell_type": "code",
   "execution_count": null,
   "metadata": {},
   "outputs": [],
   "source": [
    "image = Image.open(\"../input/dbscan-image/3exp.png\")\n",
    "\n",
    "equation = []\n",
    "\n",
    "width, height = image.size \n",
    "print(\"Width : \" , width, \" , Height : \", height)\n",
    "plt.imshow(image)\n",
    "plt.axis('off')\n",
    "plt.show()\n",
    "\n",
    "fig, axs= plt.subplots(1,3)\n",
    "div = int(width/3)\n",
    "\n",
    "for i in range(0,3):\n",
    "    left = i * div\n",
    "    top = 0\n",
    "    right = (i+1) * div\n",
    "    bottom = height \n",
    "    \n",
    "    temp_img = image.crop((left, top, right, bottom))\n",
    "    \n",
    "    temp_img = temp_img.resize((100,100)) \n",
    "    img = np.array(temp_img)\n",
    "    img = np.expand_dims(img, axis=0)\n",
    "    img = img.astype('float32')\n",
    "    img /= 255\n",
    "\n",
    "\n",
    "    pred = model.predict(img)        \n",
    "    result = np.argsort(pred)  \n",
    "    result = result[0][::-1]\n",
    "\n",
    "    final_label = label_encoder.inverse_transform(np.array(result))\n",
    "    \n",
    "    equation.append(final_label[0])\n",
    "\n",
    "    axs[i].imshow(temp_img)\n",
    "    axs[i].set_title(str(\"Prediction: \" + final_label[0]), fontsize = 14)   \n",
    "\n",
    "plt.show()\n",
    "print(strToSymbol(equation[0]), strToSymbol(equation[1]) , strToSymbol(equation[2]), \" = \", calculate(equation[0], equation[1] , equation[2]))"
   ]
  },
  {
   "cell_type": "code",
   "execution_count": null,
   "metadata": {},
   "outputs": [],
   "source": [
    "image = Image.open(\"../input/dbscan-image/7exp.png\")\n",
    "\n",
    "equation = []\n",
    "\n",
    "width, height = image.size \n",
    "print(\"Width : \" , width, \" , Height : \", height)\n",
    "plt.imshow(image)\n",
    "plt.axis('off')\n",
    "plt.show()\n",
    "\n",
    "fig, axs= plt.subplots(1,3)\n",
    "div = int(width/3)\n",
    "\n",
    "for i in range(0,3):\n",
    "    left = i * div\n",
    "    top = 0\n",
    "    right = (i+1) * div\n",
    "    bottom = height \n",
    "    \n",
    "    temp_img = image.crop((left, top, right, bottom))\n",
    "    \n",
    "    temp_img = temp_img.resize((100,100)) \n",
    "    img = np.array(temp_img)\n",
    "    img = np.expand_dims(img, axis=0)\n",
    "    img = img.astype('float32')\n",
    "    img /= 255\n",
    "\n",
    "\n",
    "    pred = model.predict(img)        \n",
    "    result = np.argsort(pred)  \n",
    "    result = result[0][::-1]\n",
    "\n",
    "    final_label = label_encoder.inverse_transform(np.array(result))\n",
    "    \n",
    "    equation.append(final_label[0])\n",
    "\n",
    "    axs[i].imshow(temp_img)\n",
    "    axs[i].set_title(str(\"Prediction: \" + final_label[0]), fontsize = 14)   \n",
    "\n",
    "plt.show()\n",
    "print(strToSymbol(equation[0]), strToSymbol(equation[1]) , strToSymbol(equation[2]), \" = \", calculate(equation[0], equation[1] , equation[2]))"
   ]
  },
  {
   "cell_type": "markdown",
   "metadata": {},
   "source": [
    "# Keract for seeing inside the model #\n",
    "\n",
    "[Keract](https://pypi.org/project/keract/) is used to see what happens at each layer of the Keras Sequential model"
   ]
  },
  {
   "cell_type": "code",
   "execution_count": null,
   "metadata": {},
   "outputs": [],
   "source": [
    "!pip install keract"
   ]
  },
  {
   "cell_type": "code",
   "execution_count": null,
   "metadata": {},
   "outputs": [],
   "source": [
    "from keract import get_activations, display_heatmaps\n",
    "\n",
    "keract_inputs = X_test[:1]\n",
    "keract_targets = y_test[:1]\n",
    "\n",
    "activations = get_activations(model, keract_inputs)\n",
    "\n",
    "display_heatmaps(activations, keract_inputs, save=False)"
   ]
  },
  {
   "cell_type": "markdown",
   "metadata": {},
   "source": [
    "**Pretty Cool right ? 😎**"
   ]
  },
  {
   "cell_type": "markdown",
   "metadata": {},
   "source": [
    "Liked the notebook? Please leave an upvote. Thank you !! And feel free to leave a comment.\n",
    "\n",
    "\n",
    "## Thank you"
   ]
  }
 ],
 "metadata": {
  "kernelspec": {
   "display_name": "Python 3",
   "language": "python",
   "name": "python3"
  },
  "language_info": {
   "codemirror_mode": {
    "name": "ipython",
    "version": 3
   },
   "file_extension": ".py",
   "mimetype": "text/x-python",
   "name": "python",
   "nbconvert_exporter": "python",
   "pygments_lexer": "ipython3",
   "version": "3.8.3"
  }
 },
 "nbformat": 4,
 "nbformat_minor": 4
}
